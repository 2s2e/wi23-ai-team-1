{
  "nbformat": 4,
  "nbformat_minor": 0,
  "metadata": {
    "colab": {
      "provenance": [],
      "collapsed_sections": [
        "bIe8GWasARwE"
      ]
    },
    "kernelspec": {
      "name": "python3",
      "display_name": "Python 3"
    },
    "language_info": {
      "name": "python"
    }
  },
  "cells": [
    {
      "cell_type": "markdown",
      "source": [
        "# Cleaning"
      ],
      "metadata": {
        "id": "bIe8GWasARwE"
      }
    },
    {
      "cell_type": "code",
      "source": [
        "import pandas as pd\n",
        "from nltk.corpus import stopwords\n",
        "\n",
        "\n",
        "def filterByNumWords(df: pd.DataFrame, numWords: int) -> pd.DataFrame:\n",
        "    \"\"\"\n",
        "    Filter out comments that have fewer words than numWords\n",
        "\n",
        "    :param df: dataframe\n",
        "    :param numWords: int\n",
        "    :return: dataframe with comments with fewer words than numWords filtered out\n",
        "    \"\"\"\n",
        "\n",
        "    if \"comment_text_words\" not in df.columns:\n",
        "        df = splitIntoWords(df)\n",
        "\n",
        "    return df.loc[df[\"comment_text_words\"].str.len() > numWords]\n",
        "\n",
        "\n",
        "def filterNonEnglishChars(df: pd.DataFrame) -> pd.DataFrame:\n",
        "    \"\"\"\n",
        "        Filter out non-english characters\n",
        "\n",
        "        :param df: dataframe\n",
        "        :return: dataframe with non-english characters filtered out\n",
        "    \"\"\"\n",
        "\n",
        "    # df[\"comment_text\"] = df['comment_text'].str \\\n",
        "    #     .encode('ascii', 'ignore').str.decode('ascii')\n",
        "    df[\"comment_text\"].replace(r\"[^A-Za-z\\s]+\", \"\", regex=True,\n",
        "                               inplace=True)\n",
        "\n",
        "    return df\n",
        "\n",
        "\n",
        "def removeStopWords(df: pd.DataFrame) -> pd.DataFrame:\n",
        "    \"\"\"\n",
        "    Remove stop words\n",
        "\n",
        "    :param df: dataframe\n",
        "    :return: dataframe with stop words removed\n",
        "    \"\"\"\n",
        "\n",
        "    wordsToRemove = stopwords.words('english')\n",
        "    pattern = r\"\\b({})\\b\".format('|'.join(wordsToRemove))\n",
        "    df[\"comment_text\"] = df[\"comment_text\"].str.replace(\n",
        "        pattern, \"\", regex=True)\n",
        "\n",
        "    return df\n",
        "\n",
        "\n",
        "def toLowerCase(df: pd.DataFrame) -> pd.DataFrame:\n",
        "    \"\"\"\n",
        "    Forces all characters to be lowercase\n",
        "\n",
        "    :param df: dataframe\n",
        "    :return: dataframe with all characters forced to be lowercase\n",
        "    \"\"\"\n",
        "\n",
        "    df[\"comment_text\"] = df[\"comment_text\"].str.lower()\n",
        "\n",
        "    return df\n",
        "\n",
        "\n",
        "def splitIntoWords(df: pd.DataFrame) -> pd.DataFrame:\n",
        "    \"\"\"\n",
        "    Split comments into words and forces them to be lowercase\n",
        "\n",
        "    :param df: dataframe\n",
        "    :return: dataframe with comments split into words\n",
        "    \"\"\"\n",
        "\n",
        "    df[\"comment_text_words\"] = df[\"comment_text\"].str.split(\"\\\\s+\")\n",
        "\n",
        "    return df\n",
        "\n",
        "\n",
        "def isEnglish(s: str) -> bool:\n",
        "    \"\"\"\n",
        "    Check if a string contains all english characters\n",
        "\n",
        "    :param s: string to check\n",
        "    :return: whether string contains only english characters\n",
        "    \"\"\"\n",
        "\n",
        "    try:\n",
        "        s.encode(encoding='utf-8').decode('ascii')\n",
        "    except UnicodeDecodeError:\n",
        "        return False\n",
        "    else:\n",
        "        return True\n",
        "\n",
        "\n",
        "def trimWhitespace(df: pd.DataFrame) -> pd.DataFrame:\n",
        "    df[\"comment_text\"] = df[\"comment_text\"].str.strip()\n",
        "\n",
        "    return df"
      ],
      "metadata": {
        "id": "n4FJiIjwAf14"
      },
      "execution_count": 1,
      "outputs": []
    },
    {
      "cell_type": "code",
      "source": [
        "import nltk\n",
        "nltk.download('stopwords')\n",
        "\n",
        "def cleanData():\n",
        "    df = pd.read_csv(\"train.csv\")\n",
        "    df = toLowerCase(df)\n",
        "    df = filterNonEnglishChars(df)\n",
        "    df = removeStopWords(df)\n",
        "    df = trimWhitespace(df)\n",
        "    df = splitIntoWords(df)\n",
        "    df = filterByNumWords(df, 3)\n",
        "\n",
        "    df.to_csv(\"train_cleaned.csv\", index=False)\n",
        "\n",
        "cleanData()"
      ],
      "metadata": {
        "colab": {
          "base_uri": "https://localhost:8080/"
        },
        "id": "tyNCnNsWArHh",
        "outputId": "ca444156-e8a1-46fa-ae4b-df533feae678"
      },
      "execution_count": 4,
      "outputs": [
        {
          "output_type": "stream",
          "name": "stderr",
          "text": [
            "[nltk_data] Downloading package stopwords to /root/nltk_data...\n",
            "[nltk_data]   Package stopwords is already up-to-date!\n"
          ]
        }
      ]
    },
    {
      "cell_type": "code",
      "source": [
        "data = pd.read_csv(\"train.csv\")\n",
        "\n",
        "data.head()"
      ],
      "metadata": {
        "colab": {
          "base_uri": "https://localhost:8080/",
          "height": 204
        },
        "id": "H6s2WMPNAwtV",
        "outputId": "676ad215-f78b-4b6c-b28b-5faf977b5725"
      },
      "execution_count": 5,
      "outputs": [
        {
          "output_type": "execute_result",
          "data": {
            "text/plain": [
              "                 id                                       comment_text  toxic  \\\n",
              "0  0000997932d777bf  Explanation\\nWhy the edits made under my usern...      0   \n",
              "1  000103f0d9cfb60f  D'aww! He matches this background colour I'm s...      0   \n",
              "2  000113f07ec002fd  Hey man, I'm really not trying to edit war. It...      0   \n",
              "3  0001b41b1c6bb37e  \"\\nMore\\nI can't make any real suggestions on ...      0   \n",
              "4  0001d958c54c6e35  You, sir, are my hero. Any chance you remember...      0   \n",
              "\n",
              "   severe_toxic  obscene  threat  insult  identity_hate  \n",
              "0             0        0       0       0              0  \n",
              "1             0        0       0       0              0  \n",
              "2             0        0       0       0              0  \n",
              "3             0        0       0       0              0  \n",
              "4             0        0       0       0              0  "
            ],
            "text/html": [
              "\n",
              "  <div id=\"df-4506c3b0-2d0e-4f79-adcb-8426e6fdba9e\">\n",
              "    <div class=\"colab-df-container\">\n",
              "      <div>\n",
              "<style scoped>\n",
              "    .dataframe tbody tr th:only-of-type {\n",
              "        vertical-align: middle;\n",
              "    }\n",
              "\n",
              "    .dataframe tbody tr th {\n",
              "        vertical-align: top;\n",
              "    }\n",
              "\n",
              "    .dataframe thead th {\n",
              "        text-align: right;\n",
              "    }\n",
              "</style>\n",
              "<table border=\"1\" class=\"dataframe\">\n",
              "  <thead>\n",
              "    <tr style=\"text-align: right;\">\n",
              "      <th></th>\n",
              "      <th>id</th>\n",
              "      <th>comment_text</th>\n",
              "      <th>toxic</th>\n",
              "      <th>severe_toxic</th>\n",
              "      <th>obscene</th>\n",
              "      <th>threat</th>\n",
              "      <th>insult</th>\n",
              "      <th>identity_hate</th>\n",
              "    </tr>\n",
              "  </thead>\n",
              "  <tbody>\n",
              "    <tr>\n",
              "      <th>0</th>\n",
              "      <td>0000997932d777bf</td>\n",
              "      <td>Explanation\\nWhy the edits made under my usern...</td>\n",
              "      <td>0</td>\n",
              "      <td>0</td>\n",
              "      <td>0</td>\n",
              "      <td>0</td>\n",
              "      <td>0</td>\n",
              "      <td>0</td>\n",
              "    </tr>\n",
              "    <tr>\n",
              "      <th>1</th>\n",
              "      <td>000103f0d9cfb60f</td>\n",
              "      <td>D'aww! He matches this background colour I'm s...</td>\n",
              "      <td>0</td>\n",
              "      <td>0</td>\n",
              "      <td>0</td>\n",
              "      <td>0</td>\n",
              "      <td>0</td>\n",
              "      <td>0</td>\n",
              "    </tr>\n",
              "    <tr>\n",
              "      <th>2</th>\n",
              "      <td>000113f07ec002fd</td>\n",
              "      <td>Hey man, I'm really not trying to edit war. It...</td>\n",
              "      <td>0</td>\n",
              "      <td>0</td>\n",
              "      <td>0</td>\n",
              "      <td>0</td>\n",
              "      <td>0</td>\n",
              "      <td>0</td>\n",
              "    </tr>\n",
              "    <tr>\n",
              "      <th>3</th>\n",
              "      <td>0001b41b1c6bb37e</td>\n",
              "      <td>\"\\nMore\\nI can't make any real suggestions on ...</td>\n",
              "      <td>0</td>\n",
              "      <td>0</td>\n",
              "      <td>0</td>\n",
              "      <td>0</td>\n",
              "      <td>0</td>\n",
              "      <td>0</td>\n",
              "    </tr>\n",
              "    <tr>\n",
              "      <th>4</th>\n",
              "      <td>0001d958c54c6e35</td>\n",
              "      <td>You, sir, are my hero. Any chance you remember...</td>\n",
              "      <td>0</td>\n",
              "      <td>0</td>\n",
              "      <td>0</td>\n",
              "      <td>0</td>\n",
              "      <td>0</td>\n",
              "      <td>0</td>\n",
              "    </tr>\n",
              "  </tbody>\n",
              "</table>\n",
              "</div>\n",
              "      <button class=\"colab-df-convert\" onclick=\"convertToInteractive('df-4506c3b0-2d0e-4f79-adcb-8426e6fdba9e')\"\n",
              "              title=\"Convert this dataframe to an interactive table.\"\n",
              "              style=\"display:none;\">\n",
              "        \n",
              "  <svg xmlns=\"http://www.w3.org/2000/svg\" height=\"24px\"viewBox=\"0 0 24 24\"\n",
              "       width=\"24px\">\n",
              "    <path d=\"M0 0h24v24H0V0z\" fill=\"none\"/>\n",
              "    <path d=\"M18.56 5.44l.94 2.06.94-2.06 2.06-.94-2.06-.94-.94-2.06-.94 2.06-2.06.94zm-11 1L8.5 8.5l.94-2.06 2.06-.94-2.06-.94L8.5 2.5l-.94 2.06-2.06.94zm10 10l.94 2.06.94-2.06 2.06-.94-2.06-.94-.94-2.06-.94 2.06-2.06.94z\"/><path d=\"M17.41 7.96l-1.37-1.37c-.4-.4-.92-.59-1.43-.59-.52 0-1.04.2-1.43.59L10.3 9.45l-7.72 7.72c-.78.78-.78 2.05 0 2.83L4 21.41c.39.39.9.59 1.41.59.51 0 1.02-.2 1.41-.59l7.78-7.78 2.81-2.81c.8-.78.8-2.07 0-2.86zM5.41 20L4 18.59l7.72-7.72 1.47 1.35L5.41 20z\"/>\n",
              "  </svg>\n",
              "      </button>\n",
              "      \n",
              "  <style>\n",
              "    .colab-df-container {\n",
              "      display:flex;\n",
              "      flex-wrap:wrap;\n",
              "      gap: 12px;\n",
              "    }\n",
              "\n",
              "    .colab-df-convert {\n",
              "      background-color: #E8F0FE;\n",
              "      border: none;\n",
              "      border-radius: 50%;\n",
              "      cursor: pointer;\n",
              "      display: none;\n",
              "      fill: #1967D2;\n",
              "      height: 32px;\n",
              "      padding: 0 0 0 0;\n",
              "      width: 32px;\n",
              "    }\n",
              "\n",
              "    .colab-df-convert:hover {\n",
              "      background-color: #E2EBFA;\n",
              "      box-shadow: 0px 1px 2px rgba(60, 64, 67, 0.3), 0px 1px 3px 1px rgba(60, 64, 67, 0.15);\n",
              "      fill: #174EA6;\n",
              "    }\n",
              "\n",
              "    [theme=dark] .colab-df-convert {\n",
              "      background-color: #3B4455;\n",
              "      fill: #D2E3FC;\n",
              "    }\n",
              "\n",
              "    [theme=dark] .colab-df-convert:hover {\n",
              "      background-color: #434B5C;\n",
              "      box-shadow: 0px 1px 3px 1px rgba(0, 0, 0, 0.15);\n",
              "      filter: drop-shadow(0px 1px 2px rgba(0, 0, 0, 0.3));\n",
              "      fill: #FFFFFF;\n",
              "    }\n",
              "  </style>\n",
              "\n",
              "      <script>\n",
              "        const buttonEl =\n",
              "          document.querySelector('#df-4506c3b0-2d0e-4f79-adcb-8426e6fdba9e button.colab-df-convert');\n",
              "        buttonEl.style.display =\n",
              "          google.colab.kernel.accessAllowed ? 'block' : 'none';\n",
              "\n",
              "        async function convertToInteractive(key) {\n",
              "          const element = document.querySelector('#df-4506c3b0-2d0e-4f79-adcb-8426e6fdba9e');\n",
              "          const dataTable =\n",
              "            await google.colab.kernel.invokeFunction('convertToInteractive',\n",
              "                                                     [key], {});\n",
              "          if (!dataTable) return;\n",
              "\n",
              "          const docLinkHtml = 'Like what you see? Visit the ' +\n",
              "            '<a target=\"_blank\" href=https://colab.research.google.com/notebooks/data_table.ipynb>data table notebook</a>'\n",
              "            + ' to learn more about interactive tables.';\n",
              "          element.innerHTML = '';\n",
              "          dataTable['output_type'] = 'display_data';\n",
              "          await google.colab.output.renderOutput(dataTable, element);\n",
              "          const docLink = document.createElement('div');\n",
              "          docLink.innerHTML = docLinkHtml;\n",
              "          element.appendChild(docLink);\n",
              "        }\n",
              "      </script>\n",
              "    </div>\n",
              "  </div>\n",
              "  "
            ]
          },
          "metadata": {},
          "execution_count": 5
        }
      ]
    },
    {
      "cell_type": "markdown",
      "source": [
        "# Exploring"
      ],
      "metadata": {
        "id": "ZWqPG2xGCBVw"
      }
    },
    {
      "cell_type": "code",
      "source": [
        "import numpy as np\n",
        "import pandas as pd\n",
        "from matplotlib import pyplot as plt\n",
        "from matplotlib.ticker import PercentFormatter\n",
        "\n",
        "\n",
        "def graphBasedOnNumWords(df: pd.DataFrame) -> None:\n",
        "    \"\"\"\n",
        "    Graphs the number of words in each comment.\n",
        "    :param df: The Pandas DataFrame.\n",
        "    :return: None.\n",
        "    \"\"\"\n",
        "    df[\"num_words\"] = df[\"comment_text\"].apply(lambda x: len(x.split()))\n",
        "    df[\"num_words\"].hist(bins=30, range=(0, 300),\n",
        "                         weights=np.ones(len(df)) / len(df))\n",
        "    plt.gca().yaxis.set_major_formatter(PercentFormatter(xmax=1))\n",
        "    plt.title(\"Number of Words in Each Comment\")\n",
        "    plt.xlabel(\"Number of Words\")\n",
        "    plt.ylabel(\"Number of Comments\")\n",
        "    plt.show()\n",
        "    plt.close()\n",
        "    print(df[\"num_words\"].describe())\n",
        "\n",
        "\n",
        "def getFrequencyOfWords(df: pd.DataFrame) -> None:\n",
        "    \"\"\"\n",
        "    Gets the frequency of words in all comment.\n",
        "    :param df: The Pandas DataFrame.\n",
        "    :return: None.\n",
        "    \"\"\"\n",
        "    print(pd.Series(\" \".join(df[\"comment_text\"]).split()).value_counts()[:20])\n",
        "\n",
        "\n",
        "def getFrequencyOfToxicWords(df: pd.DataFrame) -> None:\n",
        "    \"\"\"\n",
        "    Gets the frequency of words in all comment.\n",
        "    :param df: The Pandas DataFrame.\n",
        "    :return: None.\n",
        "    \"\"\"\n",
        "\n",
        "    # Toxicity types to filter by\n",
        "    toxicValues = [\"toxic\", \"severe_toxic\", \"obscene\", \"threat\", \"insult\",\n",
        "                   \"identity_hate\"]\n",
        "    # toxicValues = [\"identity_hate\"]\n",
        "\n",
        "    # Number of toxicity types\n",
        "    numToxicTypes = 1\n",
        "    # numToxicTypes = 6\n",
        "\n",
        "    filteredDf = df.loc[df[toxicValues].sum(axis=1) >= numToxicTypes]\n",
        "\n",
        "    print(pd.Series(\" \".join(filteredDf[\"comment_text\"]).split())\n",
        "          .value_counts()[:20])\n",
        "    \n",
        "def getFrequencyOfEachToxicTag(df: pd.DataFrame) -> None:\n",
        "    \"\"\"\n",
        "    For each of the 6 toxicity tags, it finds the number of rows\n",
        "    in the pandas dataframe corresponding to that tag. Prints \n",
        "    that information and produces a corresponding plot\n",
        "    :param df: The Pandas DataFrame.\n",
        "    :return: None.\n",
        "    \"\"\"\n",
        "    cols = data.columns\n",
        "    tags = cols[2:-1]\n",
        "\n",
        "    tagFrequencies = []\n",
        "\n",
        "    for tag in tags:\n",
        "        cnt = (data[tag] == 1).sum()\n",
        "        percentage = round((cnt / data.shape[0]) * 100, 4)\n",
        "        tagFrequencies.append((tag, percentage))\n",
        "        print(\"Percentage with tag {col_name} is {x}%\".format(col_name = tag, x = percentage))\n",
        "    \n",
        "    tagFrequencies = sorted(tagFrequencies, key=lambda x: x[1], reverse=True)\n",
        "\n",
        "    x_axis_tags = [pr[0] for pr in tagFrequencies]\n",
        "    y_axis_percentages = [pr[1] for pr in tagFrequencies]\n",
        "\n",
        "    # create a bar graph\n",
        "    plt.bar(x_axis_tags, y_axis_percentages, color ='maroon', width = 0.4)\n",
        "\n",
        "    # set the title and labels\n",
        "    plt.title('Toxicity Tag Frequency Percentages')\n",
        "    plt.xlabel('Toxicity Tag')\n",
        "    plt.ylabel('Percentage')\n",
        "\n",
        "    # display the graph\n",
        "    plt.show()"
      ],
      "metadata": {
        "id": "CboHAPa-CFRA"
      },
      "execution_count": 11,
      "outputs": []
    },
    {
      "cell_type": "code",
      "source": [
        "graphBasedOnNumWords(data)"
      ],
      "metadata": {
        "colab": {
          "base_uri": "https://localhost:8080/",
          "height": 448
        },
        "id": "67YNApm3DPTm",
        "outputId": "cb92429d-8a37-4c9f-b03f-934d525901ba"
      },
      "execution_count": 12,
      "outputs": [
        {
          "output_type": "display_data",
          "data": {
            "text/plain": [
              "<Figure size 432x288 with 1 Axes>"
            ],
            "image/png": "[encoded data removed]"
          },
          "metadata": {
            "needs_background": "light"
          }
        },
        {
          "output_type": "stream",
          "name": "stdout",
          "text": [
            "count    159571.000000\n",
            "mean         67.273527\n",
            "std          99.230702\n",
            "min           1.000000\n",
            "25%          17.000000\n",
            "50%          36.000000\n",
            "75%          75.000000\n",
            "max        1411.000000\n",
            "Name: num_words, dtype: float64\n"
          ]
        }
      ]
    },
    {
      "cell_type": "code",
      "source": [
        "getFrequencyOfWords(data)"
      ],
      "metadata": {
        "colab": {
          "base_uri": "https://localhost:8080/"
        },
        "id": "uwKucoB2DSrx",
        "outputId": "addf56ff-431e-4c31-e16b-e6ff63b03977"
      },
      "execution_count": 13,
      "outputs": [
        {
          "output_type": "stream",
          "name": "stdout",
          "text": [
            "the     445987\n",
            "to      288817\n",
            "of      219334\n",
            "and     207381\n",
            "a       201817\n",
            "I       183930\n",
            "is      164639\n",
            "you     157272\n",
            "that    140545\n",
            "in      130262\n",
            "for      96010\n",
            "it       92651\n",
            "on       84453\n",
            "not      83944\n",
            "\"        81755\n",
            "be       80928\n",
            "this     71429\n",
            "have     69414\n",
            "as       68345\n",
            "are      66277\n",
            "dtype: int64\n"
          ]
        }
      ]
    },
    {
      "cell_type": "code",
      "source": [
        "getFrequencyOfEachToxicTag(data)"
      ],
      "metadata": {
        "colab": {
          "base_uri": "https://localhost:8080/",
          "height": 398
        },
        "id": "2o8FpznADXKL",
        "outputId": "54d25494-4fe4-4168-ed2b-aca9a7f0f204"
      },
      "execution_count": 14,
      "outputs": [
        {
          "output_type": "stream",
          "name": "stdout",
          "text": [
            "Percentage with tag toxic is 9.5844%\n",
            "Percentage with tag severe_toxic is 0.9996%\n",
            "Percentage with tag obscene is 5.2948%\n",
            "Percentage with tag threat is 0.2996%\n",
            "Percentage with tag insult is 4.9364%\n",
            "Percentage with tag identity_hate is 0.8805%\n"
          ]
        },
        {
          "output_type": "display_data",
          "data": {
            "text/plain": [
              "<Figure size 432x288 with 1 Axes>"
            ],
            "image/png": "[encoded data removed]"
          },
          "metadata": {
            "needs_background": "light"
          }
        }
      ]
    }
  ]
}